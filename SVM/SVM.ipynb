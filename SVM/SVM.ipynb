{
 "cells": [
  {
   "cell_type": "markdown",
   "metadata": {},
   "source": [
    "### 支持向量机 Support Vector Machines, SVM\n",
    "\n",
    "#### 优点和缺点\n",
    "> 优点：泛化错误率低，计算开销不大，结果易解释   \n",
    "> 缺点：对参数调节和核函数选择敏感，原始分类器不加修改仅适用于处理二类问题\n",
    "\n",
    "#### - ___**这里的实例关注SVM最流行的实现，即序列最小优化(SMO)和选择核函数(Kernel)将SVM拓展到更多数据集上**____\n"
   ]
  }
 ],
 "metadata": {
  "language_info": {
   "name": "python"
  }
 },
 "nbformat": 4,
 "nbformat_minor": 2
}
